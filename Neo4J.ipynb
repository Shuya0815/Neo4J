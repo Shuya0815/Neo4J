{
 "cells": [
  {
   "cell_type": "code",
   "execution_count": 27,
   "id": "f7d7cd20",
   "metadata": {
    "scrolled": false
   },
   "outputs": [
    {
     "name": "stdout",
     "output_type": "stream",
     "text": [
      "Requirement already satisfied: neo4j in ./anaconda3/lib/python3.11/site-packages (5.15.0)\n",
      "Requirement already satisfied: pytz in ./anaconda3/lib/python3.11/site-packages (from neo4j) (2023.3.post1)\n",
      "Requirement already satisfied: neo4j-driver in ./anaconda3/lib/python3.11/site-packages (5.15.0)\n",
      "Requirement already satisfied: pytz in ./anaconda3/lib/python3.11/site-packages (from neo4j-driver) (2023.3.post1)\n",
      "Requirement already satisfied: neobolt in ./anaconda3/lib/python3.11/site-packages (1.7.17)\n"
     ]
    }
   ],
   "source": [
    "!pip install neo4j\n",
    "!pip install neo4j-driver\n",
    "!pip install neobolt"
   ]
  },
  {
   "cell_type": "code",
   "execution_count": 28,
   "id": "544e750a",
   "metadata": {},
   "outputs": [],
   "source": [
    "from neo4j import GraphDatabase, basic_auth"
   ]
  },
  {
   "cell_type": "code",
   "execution_count": 29,
   "id": "401e3115",
   "metadata": {},
   "outputs": [],
   "source": [
    "driver = GraphDatabase.driver(\"bolt://localhost:7687\", auth=basic_auth(\"neo4j\", \"hsyHSY123\"))\n",
    "session = driver.session()"
   ]
  },
  {
   "cell_type": "code",
   "execution_count": 30,
   "id": "064387b0",
   "metadata": {},
   "outputs": [
    {
     "name": "stdout",
     "output_type": "stream",
     "text": [
      "Question1: Find all producers that produced the movie When Harry Met Sally. \n",
      "Rob Reiner\n",
      "Nora Ephron\n",
      "Rob Reiner\n",
      "Nora Ephron\n"
     ]
    }
   ],
   "source": [
    "print(\"Question1: Find all producers that produced the movie When Harry Met Sally. \")\n",
    "Harry_Met_Sally_producer = '''\n",
    "MATCH (producer:Person)-[:PRODUCED]->(harry:Movie {title:'When Harry Met Sally'}) \n",
    "RETURN producer.name\n",
    "'''\n",
    "\n",
    "results = session.run(Harry_Met_Sally_producer)\n",
    "for record in results:\n",
    "    print(record[\"producer.name\"])"
   ]
  },
  {
   "cell_type": "code",
   "execution_count": 31,
   "id": "6b9bb802",
   "metadata": {},
   "outputs": [
    {
     "name": "stdout",
     "output_type": "stream",
     "text": [
      "Question2: Find directors who have directed more than 2 movies.  \n",
      "Larry Wachowski 5\n",
      "Lilly Wachowski 5\n",
      "Lana Wachowski 5\n",
      "Lilly Wachowski 5\n",
      "Rob Reiner 3\n",
      "Ron Howard 3\n",
      "Rob Reiner 3\n",
      "Ron Howard 3\n"
     ]
    }
   ],
   "source": [
    "print(\"Question2: Find directors who have directed more than 2 movies.  \")\n",
    "director_more_than_2_movies = '''\n",
    "MATCH (director:Person)-[:DIRECTED]->(movie:Movie)\n",
    "WITH director, COUNT(movie) AS moviesDirected \n",
    "WHERE moviesDirected > 2\n",
    "RETURN director.name AS name, moviesDirected\n",
    "ORDER BY moviesDirected DESC\n",
    "'''\n",
    "\n",
    "results = session.run(director_more_than_2_movies)\n",
    "for record in results:\n",
    "    print(record[\"name\"],record[\"moviesDirected\"])"
   ]
  },
  {
   "cell_type": "code",
   "execution_count": 32,
   "id": "824e9dff",
   "metadata": {},
   "outputs": [
    {
     "name": "stdout",
     "output_type": "stream",
     "text": [
      "Question3: Find the actors who acted in 5+ movies and the movies in which they acted. \n",
      "Tom Hanks 12\n",
      "Tom Hanks 12\n",
      "Keanu Reeves 7\n",
      "Keanu Reeves 7\n"
     ]
    }
   ],
   "source": [
    "print(\"Question3: Find the actors who acted in 5+ movies and the movies in which they acted. \")\n",
    "actor_more_than_5_movies = '''\n",
    "MATCH (actor:Person)-[:ACTED_IN]->(movie:Movie)\n",
    "WITH actor, COUNT(movie) AS moviesActed \n",
    "WHERE moviesActed > 5\n",
    "RETURN actor.name AS name, moviesActed\n",
    "ORDER BY moviesActed DESC\n",
    "'''\n",
    "\n",
    "results = session.run(actor_more_than_5_movies)\n",
    "for record in results:\n",
    "    print(record[\"name\"],record[\"moviesActed\"])"
   ]
  },
  {
   "cell_type": "code",
   "execution_count": 33,
   "id": "d42de93e",
   "metadata": {},
   "outputs": [
    {
     "name": "stdout",
     "output_type": "stream",
     "text": [
      "Question4: Find the people who were the producer, writer, AND director (the same person who held all 3 roles) at the same time on a film.  \n",
      "Cameron Crowe   Movie Title: Jerry Maguire\n",
      "Nancy Meyers   Movie Title: Something's Gotta Give\n",
      "Cameron Crowe   Movie Title: Jerry Maguire\n",
      "Nancy Meyers   Movie Title: Something's Gotta Give\n"
     ]
    }
   ],
   "source": [
    "print(\"Question4: Find the people who were the producer, writer, AND director (the same person who held all 3 roles) at the same time on a film.  \")\n",
    "at_the_same_movie = '''\n",
    "MATCH (p:Person)-[:PRODUCED]->(m:Movie),\n",
    "      (p)-[:WROTE]->(m),\n",
    "      (p)-[:DIRECTED]->(m)\n",
    "RETURN p.name AS name, m.title AS title\n",
    "'''\n",
    "\n",
    "results = session.run(at_the_same_movie)\n",
    "for record in results:\n",
    "    print(record[\"name\"],\"  Movie Title:\",record[\"title\"])"
   ]
  },
  {
   "cell_type": "code",
   "execution_count": 34,
   "id": "faaadb4e",
   "metadata": {},
   "outputs": [
    {
     "name": "stdout",
     "output_type": "stream",
     "text": [
      "Question5: Find all the actors that are exactly 3 degrees away from Tom Hanks.\n",
      "Michael Sheen\n",
      "Frank Langella\n",
      "Oliver Platt\n",
      "Kevin Bacon\n",
      "Jerry O'Connell\n",
      "Jay Mohr\n",
      "Cuba Gooding Jr.\n",
      "Jonathan Lipnicki\n",
      "Renee Zellweger\n",
      "Kelly Preston\n",
      "Regina King\n",
      "Tom Cruise\n",
      "Ethan Hawke\n",
      "Rick Yune\n",
      "Max von Sydow\n",
      "Bonnie Hunt\n",
      "Patricia Clarkson\n",
      "James Cromwell\n",
      "Michael Clarke Duncan\n",
      "David Morse\n"
     ]
    }
   ],
   "source": [
    "print(\"Question5: Find all the actors that are exactly 3 degrees away from Tom Hanks.\")\n",
    "degree_from_Tom = '''\n",
    "MATCH (tom:Person {name: \"Tom Hanks\"})-[:ACTED_IN]->(m1:Movie)<-[:ACTED_IN]-(p1:Person)-[:ACTED_IN]->(m2:Movie)<-[:ACTED_IN]-(p2:Person)-[:ACTED_IN]->(m3:Movie)<-[:ACTED_IN]-(p3:Person)\n",
    "WHERE tom <> p1 AND p1 <> p2 AND p2 <> p3 AND tom <> p3 AND tom <> p2\n",
    "AND m1 <> m2 AND m2 <> m3 AND m1 <> m3\n",
    "RETURN DISTINCT p3.name AS name\n",
    "LIMIT 20\n",
    "'''\n",
    "\n",
    "results = session.run(degree_from_Tom)\n",
    "for record in results:\n",
    "    print(record[\"name\"])"
   ]
  },
  {
   "cell_type": "code",
   "execution_count": 35,
   "id": "d2bdeef9",
   "metadata": {},
   "outputs": [
    {
     "name": "stdout",
     "output_type": "stream",
     "text": [
      "Question6: Update database to reflect new name Larry Wachowski for director Lana Wachowski.\n",
      "Larry Wachowski\n"
     ]
    }
   ],
   "source": [
    "print(\"Question6: Update database to reflect new name Larry Wachowski for director Lana Wachowski.\")\n",
    "update = '''\n",
    "MATCH (actor:Person {name: \"Lana Wachowski\"})\n",
    "SET actor.name = \"Larry Wachowski\"\n",
    "RETURN actor.name as name\n",
    "'''\n",
    "\n",
    "results = session.run(update)\n",
    "for record in results:\n",
    "    print(record[\"name\"])"
   ]
  },
  {
   "cell_type": "code",
   "execution_count": 36,
   "id": "52ca2cc9",
   "metadata": {},
   "outputs": [
    {
     "name": "stdout",
     "output_type": "stream",
     "text": [
      "Question7: Create a section of fun movies whose summary contains the keyword fun.\n",
      "The Replacements\n"
     ]
    }
   ],
   "source": [
    "print(\"Question7: Create a section of fun movies whose summary contains the keyword fun.\")\n",
    "fun_movie = '''\n",
    "MATCH (p:Person)-[review:REVIEWED]->(m:Movie)\n",
    "WHERE review.summary CONTAINS \"fun\"\n",
    "RETURN DISTINCT m.title AS name\n",
    "'''\n",
    "\n",
    "results = session.run(fun_movie)\n",
    "for record in results:\n",
    "    print(record[\"name\"])"
   ]
  },
  {
   "cell_type": "code",
   "execution_count": 37,
   "id": "808b5e97",
   "metadata": {},
   "outputs": [
    {
     "name": "stdout",
     "output_type": "stream",
     "text": [
      "Question8:List all the release years and count all movies released in that year.\n",
      "1975   2\n",
      "1986   4\n",
      "1990   2\n",
      "1992   8\n",
      "1993   2\n",
      "1995   4\n",
      "1996   6\n",
      "1997   4\n",
      "1998   6\n",
      "1999   8\n",
      "2000   6\n",
      "2003   6\n",
      "2004   2\n",
      "2006   6\n",
      "2007   2\n",
      "2008   4\n",
      "2009   2\n",
      "2012   2\n"
     ]
    }
   ],
   "source": [
    "print(\"Question8:List all the release years and count all movies released in that year.\")\n",
    "movie_by_year = '''\n",
    "MATCH (m:Movie)\n",
    "WITH m.released AS year, COUNT(m) AS num\n",
    "RETURN year, num\n",
    "ORDER BY year ASC\n",
    "'''\n",
    "\n",
    "results = session.run(movie_by_year)\n",
    "for record in results:\n",
    "    print(record[\"year\"],\" \",record[\"num\"])"
   ]
  },
  {
   "cell_type": "code",
   "execution_count": 38,
   "id": "8d6b8bcb",
   "metadata": {},
   "outputs": [
    {
     "name": "stdout",
     "output_type": "stream",
     "text": [
      "Question9: List all the movies whose rating >= 90.\n",
      "Cloud Atlas 95.0\n",
      "Jerry Maguire 92.0\n"
     ]
    }
   ],
   "source": [
    "print(\"Question9: List all the movies whose rating >= 90.\")\n",
    "movie_rating_90 = '''\n",
    "MATCH (p:Person)-[review:REVIEWED]->(m:Movie)\n",
    "WITH m.title as title, AVG(review.rating) AS avg_rating\n",
    "WHERE avg_rating >= 90\n",
    "RETURN title,avg_rating\n",
    "ORDER BY avg_rating DESC\n",
    "'''\n",
    "\n",
    "results = session.run(movie_rating_90)\n",
    "for record in results:\n",
    "    print(record[\"title\"],record[\"avg_rating\"])"
   ]
  },
  {
   "cell_type": "code",
   "execution_count": 39,
   "id": "b223bcf4",
   "metadata": {},
   "outputs": [
    {
     "name": "stdout",
     "output_type": "stream",
     "text": [
      "Question10: List the top producers who are most likely to entertain new movies production hint: Producers with most movies produced.\n",
      "Joel Silver (with the number of movies produced: 12 )\n",
      "Lilly Wachowski (with the number of movies produced: 4 )\n",
      "Larry Wachowski (with the number of movies produced: 4 )\n"
     ]
    }
   ],
   "source": [
    "print(\"Question10: List the top producers who are most likely to entertain new movies production hint: Producers with most movies produced.\")\n",
    "producer_produced_most = '''\n",
    "MATCH (p:Person)-[:PRODUCED]->(m:Movie)\n",
    "WITH p.name as name, COUNT(m) AS num\n",
    "RETURN name, num\n",
    "ORDER BY num DESC\n",
    "LIMIT 3\n",
    "'''\n",
    "\n",
    "results = session.run(producer_produced_most)\n",
    "for record in results:\n",
    "    print(record[\"name\"],\"(with the number of movies produced:\",record[\"num\"],\")\")"
   ]
  },
  {
   "cell_type": "code",
   "execution_count": 40,
   "id": "800fddb5",
   "metadata": {},
   "outputs": [],
   "source": [
    "session.close()"
   ]
  }
 ],
 "metadata": {
  "kernelspec": {
   "display_name": "Python 3 (ipykernel)",
   "language": "python",
   "name": "python3"
  },
  "language_info": {
   "codemirror_mode": {
    "name": "ipython",
    "version": 3
   },
   "file_extension": ".py",
   "mimetype": "text/x-python",
   "name": "python",
   "nbconvert_exporter": "python",
   "pygments_lexer": "ipython3",
   "version": "3.11.5"
  }
 },
 "nbformat": 4,
 "nbformat_minor": 5
}
